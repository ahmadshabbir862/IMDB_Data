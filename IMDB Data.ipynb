{
 "cells": [
  {
   "cell_type": "code",
   "execution_count": 1,
   "id": "6b268221",
   "metadata": {},
   "outputs": [
    {
     "name": "stderr",
     "output_type": "stream",
     "text": [
      "2023-04-14 14:23:35.322850: I tensorflow/tsl/cuda/cudart_stub.cc:28] Could not find cuda drivers on your machine, GPU will not be used.\n",
      "2023-04-14 14:23:35.800216: I tensorflow/tsl/cuda/cudart_stub.cc:28] Could not find cuda drivers on your machine, GPU will not be used.\n",
      "2023-04-14 14:23:35.807695: I tensorflow/core/platform/cpu_feature_guard.cc:182] This TensorFlow binary is optimized to use available CPU instructions in performance-critical operations.\n",
      "To enable the following instructions: AVX2 FMA, in other operations, rebuild TensorFlow with the appropriate compiler flags.\n",
      "2023-04-14 14:23:37.847121: W tensorflow/compiler/tf2tensorrt/utils/py_utils.cc:38] TF-TRT Warning: Could not find TensorRT\n"
     ]
    }
   ],
   "source": [
    "import tensorflow as tf\n",
    "import pandas as pd\n",
    "import numpy as np"
   ]
  },
  {
   "cell_type": "code",
   "execution_count": 2,
   "id": "ac02916c",
   "metadata": {},
   "outputs": [],
   "source": [
    "from tensorflow.keras.datasets import imdb"
   ]
  },
  {
   "cell_type": "code",
   "execution_count": 3,
   "id": "50ae4729",
   "metadata": {},
   "outputs": [],
   "source": [
    "from tensorflow.keras import layers, models, optimizers"
   ]
  },
  {
   "cell_type": "code",
   "execution_count": 4,
   "id": "8554df1f",
   "metadata": {},
   "outputs": [],
   "source": [
    "import matplotlib.pyplot as plt"
   ]
  },
  {
   "cell_type": "code",
   "execution_count": 5,
   "id": "0f86cbb8",
   "metadata": {},
   "outputs": [
    {
     "name": "stdout",
     "output_type": "stream",
     "text": [
      "Downloading data from https://storage.googleapis.com/tensorflow/tf-keras-datasets/imdb.npz\n",
      "17464789/17464789 [==============================] - 18s 1us/step\n"
     ]
    }
   ],
   "source": [
    "(train_data, train_labels), (test_data, test_labels)=imdb.load_data(num_words=10000)"
   ]
  },
  {
   "cell_type": "code",
   "execution_count": 9,
   "id": "63b1c6af",
   "metadata": {},
   "outputs": [
    {
     "name": "stdout",
     "output_type": "stream",
     "text": [
      "Words: [1, 778, 128, 74, 12, 630, 163, 15, 4, 1766, 7982, 1051, 2, 32, 85, 156, 45, 40, 148, 139, 121, 664, 665, 10, 10, 1361, 173, 4, 749, 2, 16, 3804, 8, 4, 226, 65, 12, 43, 127, 24, 2, 10, 10]\n",
      "Labels: 0\n"
     ]
    }
   ],
   "source": [
    "print(\"Words:\", train_data[5])\n",
    "print(\"Labels:\", train_labels[5])"
   ]
  },
  {
   "cell_type": "code",
   "execution_count": null,
   "id": "1a85ccd2",
   "metadata": {},
   "outputs": [],
   "source": [
    "word_index=imdb.get_word_index()\n",
    "print(word_index)"
   ]
  },
  {
   "cell_type": "code",
   "execution_count": 11,
   "id": "ab817128",
   "metadata": {},
   "outputs": [
    {
     "name": "stdout",
     "output_type": "stream",
     "text": [
      "? begins better than it ends funny that the russian submarine crew ? all other actors it's like those scenes where documentary shots br br spoiler part the message ? was contrary to the whole story it just does not ? br br\n"
     ]
    }
   ],
   "source": [
    "reverse_word_index=dict([(value, key) for(key, value) in word_index.items()])\n",
    "dwcoded_review = ' '.join([reverse_word_index.get(i-3, '?') for i in train_data[5]])\n",
    "print(dwcoded_review)"
   ]
  },
  {
   "cell_type": "code",
   "execution_count": 19,
   "id": "73d86f1b",
   "metadata": {},
   "outputs": [],
   "source": [
    "def vecorize_sequences(sequences, dimension=10000):\n",
    "    results = np.zeros((len(sequences), dimension))\n",
    "    for i, sequence in enumerate(sequences):\n",
    "        results[i, sequence] = 1.\n",
    "    return results"
   ]
  },
  {
   "cell_type": "code",
   "execution_count": 20,
   "id": "38106c2c",
   "metadata": {},
   "outputs": [],
   "source": [
    "x_train = vecorize_sequences(train_data)\n",
    "x_test = vecorize_sequences(test_data)"
   ]
  },
  {
   "cell_type": "code",
   "execution_count": 22,
   "id": "1bd53fa5",
   "metadata": {},
   "outputs": [
    {
     "data": {
      "text/plain": [
       "(25000, 10000)"
      ]
     },
     "execution_count": 22,
     "metadata": {},
     "output_type": "execute_result"
    }
   ],
   "source": [
    "train_data.shape\n",
    "x_train.shape"
   ]
  },
  {
   "cell_type": "code",
   "execution_count": 23,
   "id": "ef41a6d7",
   "metadata": {},
   "outputs": [
    {
     "name": "stdout",
     "output_type": "stream",
     "text": [
      "[0. 1. 1. ... 0. 0. 0.]\n"
     ]
    }
   ],
   "source": [
    "print(x_train[5])"
   ]
  },
  {
   "cell_type": "code",
   "execution_count": 24,
   "id": "d846a1e2",
   "metadata": {},
   "outputs": [],
   "source": [
    "y_train=np.asarray(train_labels).astype('float32')\n",
    "y_test=np.asarray(test_labels).astype('float32')"
   ]
  },
  {
   "cell_type": "code",
   "execution_count": 26,
   "id": "eb071812",
   "metadata": {},
   "outputs": [],
   "source": [
    "model = models.Sequential()     #model structure\n",
    "model.add(layers.Dense(16, activation='relu', input_shape=(10000, )))\n",
    "model.add(layers.Dense(16, activation='relu'))\n",
    "model.add(layers.Dense(1, activation='sigmoid'))"
   ]
  },
  {
   "cell_type": "code",
   "execution_count": null,
   "id": "389c0fde",
   "metadata": {},
   "outputs": [],
   "source": []
  },
  {
   "cell_type": "code",
   "execution_count": 32,
   "id": "86aeada8",
   "metadata": {},
   "outputs": [],
   "source": [
    "x_val=x_train[ :10000]              #creat validation data\n",
    "partial_x_train=x_train[10000:]\n",
    "y_val=y_train[:10000]\n",
    "partial_y_train=y_train[10000:]"
   ]
  },
  {
   "cell_type": "code",
   "execution_count": 30,
   "id": "f05e3060",
   "metadata": {},
   "outputs": [
    {
     "data": {
      "text/plain": [
       "(10000, 10000)"
      ]
     },
     "execution_count": 30,
     "metadata": {},
     "output_type": "execute_result"
    }
   ],
   "source": [
    "x_val.shape"
   ]
  },
  {
   "cell_type": "code",
   "execution_count": 31,
   "id": "6f87c46f",
   "metadata": {},
   "outputs": [
    {
     "data": {
      "text/plain": [
       "(15000, 10000)"
      ]
     },
     "execution_count": 31,
     "metadata": {},
     "output_type": "execute_result"
    }
   ],
   "source": [
    "partial_x_train.shape"
   ]
  },
  {
   "cell_type": "code",
   "execution_count": 34,
   "id": "7885b25c",
   "metadata": {},
   "outputs": [
    {
     "name": "stderr",
     "output_type": "stream",
     "text": [
      "2023-04-14 16:58:38.306621: W tensorflow/tsl/framework/cpu_allocator_impl.cc:83] Allocation of 600000000 exceeds 10% of free system memory.\n"
     ]
    },
    {
     "name": "stdout",
     "output_type": "stream",
     "text": [
      "Epoch 1/20\n"
     ]
    },
    {
     "name": "stderr",
     "output_type": "stream",
     "text": [
      "2023-04-14 16:58:42.751720: W tensorflow/tsl/framework/cpu_allocator_impl.cc:83] Allocation of 20480000 exceeds 10% of free system memory.\n",
      "2023-04-14 16:58:42.754379: W tensorflow/tsl/framework/cpu_allocator_impl.cc:83] Allocation of 20480000 exceeds 10% of free system memory.\n",
      "2023-04-14 16:58:42.754492: W tensorflow/tsl/framework/cpu_allocator_impl.cc:83] Allocation of 20480000 exceeds 10% of free system memory.\n",
      "2023-04-14 16:58:42.759834: W tensorflow/tsl/framework/cpu_allocator_impl.cc:83] Allocation of 20480000 exceeds 10% of free system memory.\n"
     ]
    },
    {
     "name": "stdout",
     "output_type": "stream",
     "text": [
      "30/30 [==============================] - 12s 373ms/step - loss: 0.5228 - acc: 0.7619 - val_loss: 0.3855 - val_acc: 0.8649\n",
      "Epoch 2/20\n",
      "30/30 [==============================] - 4s 134ms/step - loss: 0.3102 - acc: 0.8945 - val_loss: 0.3141 - val_acc: 0.8777\n",
      "Epoch 3/20\n",
      "30/30 [==============================] - 2s 53ms/step - loss: 0.2317 - acc: 0.9209 - val_loss: 0.2830 - val_acc: 0.8879\n",
      "Epoch 4/20\n",
      "30/30 [==============================] - 2s 69ms/step - loss: 0.1879 - acc: 0.9369 - val_loss: 0.3019 - val_acc: 0.8797\n",
      "Epoch 5/20\n",
      "30/30 [==============================] - 2s 68ms/step - loss: 0.1578 - acc: 0.9471 - val_loss: 0.2788 - val_acc: 0.8862\n",
      "Epoch 6/20\n",
      "30/30 [==============================] - 2s 52ms/step - loss: 0.1381 - acc: 0.9553 - val_loss: 0.2877 - val_acc: 0.8863\n",
      "Epoch 7/20\n",
      "30/30 [==============================] - 2s 57ms/step - loss: 0.1139 - acc: 0.9636 - val_loss: 0.2976 - val_acc: 0.8844\n",
      "Epoch 8/20\n",
      "30/30 [==============================] - 1s 42ms/step - loss: 0.0967 - acc: 0.9714 - val_loss: 0.3203 - val_acc: 0.8797\n",
      "Epoch 9/20\n",
      "30/30 [==============================] - 2s 63ms/step - loss: 0.0836 - acc: 0.9775 - val_loss: 0.3285 - val_acc: 0.8827\n",
      "Epoch 10/20\n",
      "30/30 [==============================] - 1s 46ms/step - loss: 0.0723 - acc: 0.9789 - val_loss: 0.3513 - val_acc: 0.8768\n",
      "Epoch 11/20\n",
      "30/30 [==============================] - 1s 38ms/step - loss: 0.0611 - acc: 0.9839 - val_loss: 0.4270 - val_acc: 0.8621\n",
      "Epoch 12/20\n",
      "30/30 [==============================] - 1s 49ms/step - loss: 0.0511 - acc: 0.9888 - val_loss: 0.3997 - val_acc: 0.8721\n",
      "Epoch 13/20\n",
      "30/30 [==============================] - 2s 59ms/step - loss: 0.0430 - acc: 0.9911 - val_loss: 0.4282 - val_acc: 0.8754\n",
      "Epoch 14/20\n",
      "30/30 [==============================] - 2s 66ms/step - loss: 0.0381 - acc: 0.9929 - val_loss: 0.5520 - val_acc: 0.8488\n",
      "Epoch 15/20\n",
      "30/30 [==============================] - 1s 43ms/step - loss: 0.0327 - acc: 0.9932 - val_loss: 0.5771 - val_acc: 0.8468\n",
      "Epoch 16/20\n",
      "30/30 [==============================] - 1s 45ms/step - loss: 0.0266 - acc: 0.9953 - val_loss: 0.4837 - val_acc: 0.8680\n",
      "Epoch 17/20\n",
      "30/30 [==============================] - 1s 40ms/step - loss: 0.0229 - acc: 0.9964 - val_loss: 0.4930 - val_acc: 0.8734\n",
      "Epoch 18/20\n",
      "30/30 [==============================] - 4s 140ms/step - loss: 0.0230 - acc: 0.9955 - val_loss: 0.5138 - val_acc: 0.8721\n",
      "Epoch 19/20\n",
      "30/30 [==============================] - 2s 52ms/step - loss: 0.0125 - acc: 0.9997 - val_loss: 0.5397 - val_acc: 0.8727\n",
      "Epoch 20/20\n",
      "30/30 [==============================] - 2s 65ms/step - loss: 0.0141 - acc: 0.9991 - val_loss: 0.5655 - val_acc: 0.8687\n"
     ]
    }
   ],
   "source": [
    "model.compile(optimizer='rmsprop', loss='binary_crossentropy', metrics=['acc'])\n",
    "history = model.fit(partial_x_train, partial_y_train, epochs=20, batch_size=512, validation_data=(x_val, y_val))"
   ]
  },
  {
   "cell_type": "code",
   "execution_count": 35,
   "id": "1ec289d4",
   "metadata": {},
   "outputs": [
    {
     "name": "stdout",
     "output_type": "stream",
     "text": [
      "{'loss': [0.5227606892585754, 0.31016308069229126, 0.23174726963043213, 0.18794064223766327, 0.1577640175819397, 0.13809117674827576, 0.11391226947307587, 0.09665405750274658, 0.08357425779104233, 0.07229352742433548, 0.06110120564699173, 0.05109802633523941, 0.042959537357091904, 0.038097184151411057, 0.03272702172398567, 0.026649953797459602, 0.022921964526176453, 0.022959286347031593, 0.012487882748246193, 0.014106180518865585], 'acc': [0.7619333267211914, 0.8945333361625671, 0.9209333062171936, 0.9369333386421204, 0.9471333622932434, 0.9553333520889282, 0.9635999798774719, 0.9714000225067139, 0.9774666428565979, 0.978866696357727, 0.9838666915893555, 0.9887999892234802, 0.9910666942596436, 0.9928666949272156, 0.9932000041007996, 0.9953333139419556, 0.996399998664856, 0.9954666495323181, 0.999666690826416, 0.9990666508674622], 'val_loss': [0.38548630475997925, 0.31406596302986145, 0.2829646170139313, 0.30193573236465454, 0.2787685990333557, 0.2876584231853485, 0.2975562810897827, 0.32032492756843567, 0.3285188376903534, 0.35132691264152527, 0.42697975039482117, 0.39971810579299927, 0.42821162939071655, 0.5520316958427429, 0.5771048665046692, 0.4836793839931488, 0.4930467903614044, 0.5138226747512817, 0.5396692156791687, 0.5655186772346497], 'val_acc': [0.8648999929428101, 0.8776999711990356, 0.8878999948501587, 0.8797000050544739, 0.8862000107765198, 0.8863000273704529, 0.8844000101089478, 0.8797000050544739, 0.8827000260353088, 0.876800000667572, 0.8621000051498413, 0.8720999956130981, 0.8754000067710876, 0.848800003528595, 0.8468000292778015, 0.8679999709129333, 0.8733999729156494, 0.8720999956130981, 0.8726999759674072, 0.8687000274658203]}\n"
     ]
    }
   ],
   "source": [
    "history_dict = history.history\n",
    "print(history_dict)"
   ]
  },
  {
   "cell_type": "code",
   "execution_count": null,
   "id": "f56f8362",
   "metadata": {},
   "outputs": [],
   "source": []
  }
 ],
 "metadata": {
  "kernelspec": {
   "display_name": "Python 3 (ipykernel)",
   "language": "python",
   "name": "python3"
  },
  "language_info": {
   "codemirror_mode": {
    "name": "ipython",
    "version": 3
   },
   "file_extension": ".py",
   "mimetype": "text/x-python",
   "name": "python",
   "nbconvert_exporter": "python",
   "pygments_lexer": "ipython3",
   "version": "3.10.6"
  }
 },
 "nbformat": 4,
 "nbformat_minor": 5
}
